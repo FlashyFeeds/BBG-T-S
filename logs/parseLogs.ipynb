{
 "cells": [
  {
   "cell_type": "code",
   "execution_count": 30,
   "id": "5cb6d401",
   "metadata": {
    "scrolled": true
   },
   "outputs": [
    {
     "name": "stdout",
     "output_type": "stream",
     "text": [
      "C:\\Users\\Svetlana\\Documents\\GitHub\\BBG-T-S\\logs\n",
      "C:\\Users\\Svetlana\\Documents\\GitHub\\BBG-T-S\\logs\\unsortedLogs\n",
      "['Lua.log']\n",
      "C:\\Users\\Svetlana\\Documents\\GitHub\\BBG-T-S\\logs\\unsortedLogs\\Lua.log\n",
      "DebugHotloadCache: GameDebug initialized!\n",
      "\n"
     ]
    }
   ],
   "source": [
    "from os import walk\n",
    "\n",
    "def IsDebugOn(lineArray: list)\n",
    "if  __name__ == \"__main__\":\n",
    "    mainPath = os.path.abspath(os.getcwd())\n",
    "    print(mainPath)\n",
    "    rawLogNames = []\n",
    "    rawLogPaths = []\n",
    "    dirNames = []\n",
    "    for (dirpath, dirnames, filenames) in walk(mypath):\n",
    "        dirNames.extend(dirnames)\n",
    "        if dirpath==os.path.join(mainPath,\"unsortedLogs\"):\n",
    "            print(dirpath)\n",
    "            rawLogNames.extend(filenames)\n",
    "            for filename in filenames:\n",
    "                rawPath = os.path.join(dirpath,filename)\n",
    "                rawLogPaths.append(rawPath)\n",
    "    print(f)\n",
    "    \n",
    "    for p in rawLogPaths:\n",
    "        print(p)\n",
    "    \n",
    "    for logPath in rawLogPaths:\n",
    "        with open(logPath,'r') as f:\n",
    "            lines = f.readlines()\n",
    "            for line in lines\n"
   ]
  },
  {
   "cell_type": "code",
   "execution_count": null,
   "id": "641b5a90",
   "metadata": {},
   "outputs": [],
   "source": []
  },
  {
   "cell_type": "code",
   "execution_count": null,
   "id": "8b3993e8",
   "metadata": {},
   "outputs": [],
   "source": []
  },
  {
   "cell_type": "code",
   "execution_count": null,
   "id": "e84b1492",
   "metadata": {},
   "outputs": [],
   "source": []
  },
  {
   "cell_type": "code",
   "execution_count": null,
   "id": "dfb43117",
   "metadata": {},
   "outputs": [],
   "source": []
  },
  {
   "cell_type": "code",
   "execution_count": null,
   "id": "7ada999a",
   "metadata": {},
   "outputs": [],
   "source": []
  },
  {
   "cell_type": "code",
   "execution_count": null,
   "id": "52cb23be",
   "metadata": {},
   "outputs": [],
   "source": []
  }
 ],
 "metadata": {
  "kernelspec": {
   "display_name": "Python 3 (ipykernel)",
   "language": "python",
   "name": "python3"
  },
  "language_info": {
   "codemirror_mode": {
    "name": "ipython",
    "version": 3
   },
   "file_extension": ".py",
   "mimetype": "text/x-python",
   "name": "python",
   "nbconvert_exporter": "python",
   "pygments_lexer": "ipython3",
   "version": "3.9.12"
  }
 },
 "nbformat": 4,
 "nbformat_minor": 5
}
